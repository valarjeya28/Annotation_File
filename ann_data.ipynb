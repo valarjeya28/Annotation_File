{
 "cells": [
  {
   "cell_type": "code",
   "execution_count": 5,
   "metadata": {},
   "outputs": [],
   "source": [
    "import pandas as pd\n",
    "import codecs"
   ]
  },
  {
   "cell_type": "code",
   "execution_count": 7,
   "metadata": {},
   "outputs": [
    {
     "data": {
      "text/html": [
       "<div>\n",
       "<style scoped>\n",
       "    .dataframe tbody tr th:only-of-type {\n",
       "        vertical-align: middle;\n",
       "    }\n",
       "\n",
       "    .dataframe tbody tr th {\n",
       "        vertical-align: top;\n",
       "    }\n",
       "\n",
       "    .dataframe thead th {\n",
       "        text-align: right;\n",
       "    }\n",
       "</style>\n",
       "<table border=\"1\" class=\"dataframe\">\n",
       "  <thead>\n",
       "    <tr style=\"text-align: right;\">\n",
       "      <th></th>\n",
       "      <th>0</th>\n",
       "      <th>1</th>\n",
       "      <th>2</th>\n",
       "      <th>3</th>\n",
       "      <th>4</th>\n",
       "      <th>5</th>\n",
       "    </tr>\n",
       "  </thead>\n",
       "  <tbody>\n",
       "    <tr>\n",
       "      <th>0</th>\n",
       "      <td>docm23</td>\n",
       "      <td>122</td>\n",
       "      <td>136</td>\n",
       "      <td>-1</td>\n",
       "      <td>ID 0 6</td>\n",
       "      <td>March 18, 2019</td>\n",
       "    </tr>\n",
       "    <tr>\n",
       "      <th>1</th>\n",
       "      <td>docm23</td>\n",
       "      <td>782</td>\n",
       "      <td>786</td>\n",
       "      <td>-1</td>\n",
       "      <td>ID 0 6</td>\n",
       "      <td>1994</td>\n",
       "    </tr>\n",
       "    <tr>\n",
       "      <th>2</th>\n",
       "      <td>docm23</td>\n",
       "      <td>791</td>\n",
       "      <td>795</td>\n",
       "      <td>-1</td>\n",
       "      <td>ID 0 6</td>\n",
       "      <td>1999</td>\n",
       "    </tr>\n",
       "    <tr>\n",
       "      <th>3</th>\n",
       "      <td>docm23</td>\n",
       "      <td>827</td>\n",
       "      <td>840</td>\n",
       "      <td>-1</td>\n",
       "      <td>ID 0 6</td>\n",
       "      <td>1988 and 1992</td>\n",
       "    </tr>\n",
       "    <tr>\n",
       "      <th>4</th>\n",
       "      <td>docm23</td>\n",
       "      <td>623</td>\n",
       "      <td>631</td>\n",
       "      <td>1</td>\n",
       "      <td>ID 0 6</td>\n",
       "      <td>10-year</td>\n",
       "    </tr>\n",
       "  </tbody>\n",
       "</table>\n",
       "</div>"
      ],
      "text/plain": [
       "        0    1    2  3       4               5\n",
       "0  docm23  122  136 -1  ID 0 6  March 18, 2019\n",
       "1  docm23  782  786 -1  ID 0 6            1994\n",
       "2  docm23  791  795 -1  ID 0 6            1999\n",
       "3  docm23  827  840 -1  ID 0 6   1988 and 1992\n",
       "4  docm23  623  631  1  ID 0 6         10-year"
      ]
     },
     "execution_count": 7,
     "metadata": {},
     "output_type": "execute_result"
    }
   ],
   "source": [
    "# doc = codecs.open('parseresulttest.txt','r','UTF-8')\n",
    "data = pd.read_csv('NewReportFriday.txt', sep='\\t', header=None,encoding='ISO-8859–1') \n",
    "data.head()"
   ]
  },
  {
   "cell_type": "code",
   "execution_count": 8,
   "metadata": {},
   "outputs": [
    {
     "data": {
      "text/plain": [
       "Index(['DOC_ID', 'span1', 'span2', 'Flag', 'ID', 'Date'], dtype='object')"
      ]
     },
     "execution_count": 8,
     "metadata": {},
     "output_type": "execute_result"
    }
   ],
   "source": [
    "# export_csv = data.to_csv (r'export_dataframe1.csv', index = None, header=True) #Don't forget to add '.csv' at the end of the path\n",
    "\n",
    "data_df=data.rename(columns={0:\"DOC_ID\",1: \"span1\", 2: \"span2\", 3: \"Flag\",4: \"ID\", 5: \"Date\"})\n",
    "data_df.columns\n"
   ]
  },
  {
   "cell_type": "code",
   "execution_count": 9,
   "metadata": {},
   "outputs": [
    {
     "data": {
      "text/html": [
       "<div>\n",
       "<style scoped>\n",
       "    .dataframe tbody tr th:only-of-type {\n",
       "        vertical-align: middle;\n",
       "    }\n",
       "\n",
       "    .dataframe tbody tr th {\n",
       "        vertical-align: top;\n",
       "    }\n",
       "\n",
       "    .dataframe thead th {\n",
       "        text-align: right;\n",
       "    }\n",
       "</style>\n",
       "<table border=\"1\" class=\"dataframe\">\n",
       "  <thead>\n",
       "    <tr style=\"text-align: right;\">\n",
       "      <th></th>\n",
       "      <th>DOC_ID</th>\n",
       "      <th>Date</th>\n",
       "      <th>Flag</th>\n",
       "      <th>span1</th>\n",
       "      <th>span2</th>\n",
       "    </tr>\n",
       "  </thead>\n",
       "  <tbody>\n",
       "    <tr>\n",
       "      <th>0</th>\n",
       "      <td>docm23</td>\n",
       "      <td>March 18, 2019</td>\n",
       "      <td>-1</td>\n",
       "      <td>122</td>\n",
       "      <td>136</td>\n",
       "    </tr>\n",
       "    <tr>\n",
       "      <th>1</th>\n",
       "      <td>docm23</td>\n",
       "      <td>1994</td>\n",
       "      <td>-1</td>\n",
       "      <td>782</td>\n",
       "      <td>786</td>\n",
       "    </tr>\n",
       "    <tr>\n",
       "      <th>2</th>\n",
       "      <td>docm23</td>\n",
       "      <td>1999</td>\n",
       "      <td>-1</td>\n",
       "      <td>791</td>\n",
       "      <td>795</td>\n",
       "    </tr>\n",
       "    <tr>\n",
       "      <th>3</th>\n",
       "      <td>docm23</td>\n",
       "      <td>1988 and 1992</td>\n",
       "      <td>-1</td>\n",
       "      <td>827</td>\n",
       "      <td>840</td>\n",
       "    </tr>\n",
       "    <tr>\n",
       "      <th>4</th>\n",
       "      <td>docm23</td>\n",
       "      <td>10-year</td>\n",
       "      <td>1</td>\n",
       "      <td>623</td>\n",
       "      <td>631</td>\n",
       "    </tr>\n",
       "  </tbody>\n",
       "</table>\n",
       "</div>"
      ],
      "text/plain": [
       "   DOC_ID            Date  Flag  span1  span2\n",
       "0  docm23  March 18, 2019    -1    122    136\n",
       "1  docm23            1994    -1    782    786\n",
       "2  docm23            1999    -1    791    795\n",
       "3  docm23   1988 and 1992    -1    827    840\n",
       "4  docm23         10-year     1    623    631"
      ]
     },
     "execution_count": 9,
     "metadata": {},
     "output_type": "execute_result"
    }
   ],
   "source": [
    "data_summarized=data_df[[\"DOC_ID\",\"Date\",\"Flag\",\"span1\",\"span2\"]]\n",
    "data_summarized.head()"
   ]
  },
  {
   "cell_type": "code",
   "execution_count": 10,
   "metadata": {},
   "outputs": [],
   "source": [
    "data_summarized\n",
    "export_csv = data_summarized.to_csv (r'Final_Cleaned_Dates_DOC.csv', index = None, header=True) "
   ]
  },
  {
   "cell_type": "code",
   "execution_count": null,
   "metadata": {},
   "outputs": [],
   "source": []
  }
 ],
 "metadata": {
  "kernelspec": {
   "display_name": "Python 3",
   "language": "python",
   "name": "python3"
  },
  "language_info": {
   "codemirror_mode": {
    "name": "ipython",
    "version": 3
   },
   "file_extension": ".py",
   "mimetype": "text/x-python",
   "name": "python",
   "nbconvert_exporter": "python",
   "pygments_lexer": "ipython3",
   "version": "3.7.3"
  }
 },
 "nbformat": 4,
 "nbformat_minor": 2
}
